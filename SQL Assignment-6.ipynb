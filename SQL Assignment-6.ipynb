{
 "cells": [
  {
   "cell_type": "code",
   "execution_count": null,
   "id": "482ebbe7",
   "metadata": {},
   "outputs": [],
   "source": [
    "Q-1. Write an SQL query to print details of the Workers who have joined in Feb’2014.\n",
    "Ans: # Approach 1\n",
    "    SELECT * FROM Worker WHERE YEAR(JOINING_DATE) = 2014 AND MONTH(JOINING_DATE) = 02;\n",
    "     # Approach 2\n",
    "    SELECT * FROM Worker WHERE JOINING_DATE LIKE \"%2014-02%\"\n",
    "\n",
    "Q-2. Write an SQL query to fetch duplicate records having matching data in some fields of a table.\n",
    "Ans: SELECT gender, department, COUNT() FROM worker GROUP BY gender, department HAVING COUNT() > 1; \n",
    "            OR\n",
    "Ans: SELECT column_name, COUNT(column_name) FROM Worker GROUP BY Field HAVING COUNT(column_name) > 1;\n",
    "    \n",
    "Q3-  How to remove duplicate rows from Employees table.\n",
    "Ans: DELETE c1 FROM worker c1\n",
    "     INNER JOIN worker c2\n",
    "        WHERE\n",
    "        c1.salary > c2.salary AND\n",
    "        c1.LAST_NAME = c2.LAST_NAME"
   ]
  }
 ],
 "metadata": {
  "kernelspec": {
   "display_name": "Python 3 (ipykernel)",
   "language": "python",
   "name": "python3"
  },
  "language_info": {
   "codemirror_mode": {
    "name": "ipython",
    "version": 3
   },
   "file_extension": ".py",
   "mimetype": "text/x-python",
   "name": "python",
   "nbconvert_exporter": "python",
   "pygments_lexer": "ipython3",
   "version": "3.9.7"
  }
 },
 "nbformat": 4,
 "nbformat_minor": 5
}
