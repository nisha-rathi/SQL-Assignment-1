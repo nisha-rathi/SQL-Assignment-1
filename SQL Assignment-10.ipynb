{
 "cells": [
  {
   "cell_type": "raw",
   "id": "416deee4",
   "metadata": {},
   "source": [
    "Q1. Write an SQL query to determine the 5th highest salary without using TOP or limit\n",
    "   method.\n",
    "Ans:SELECT first_name, last_name, dept_name,current_salary FROM ( SELECT first_name, last_name,dept_name, current_salary,       ROW_NUMBER() over( order by current_salary desc) as highest_salary FROM worker )\n",
    "    worker WHERE highest_salary <= 5 \n",
    "    \n",
    "    \n",
    "Q2. Write an SQL query to fetch the list of employees with the same salary.\n",
    "Ans: CREATE TABLE employee \n",
    "    (\n",
    "    emp_id INT PRIMARY KEY AUTO_INCREMENT NOT NULL,\n",
    "    first_name VARCHAR(50),\n",
    "    last_name VARCHAR(50),\n",
    "    salary INT\n",
    "    );\n",
    "\n",
    "INSERT INTO employee VALUES\n",
    "(1,'nisha','rathi',1000),\n",
    "(2,'riya','giri',2000),\n",
    "(3,'amit','kumar',550),\n",
    "(4,'mahesh','jadhav',1500),\n",
    "(5,'naira','rathi',1000),\n",
    "(6,'yashi','rathi',1500);\n",
    "\n",
    "SELECT * FROM employee ORDER BY salary ASC;"
   ]
  }
 ],
 "metadata": {
  "kernelspec": {
   "display_name": "Python 3 (ipykernel)",
   "language": "python",
   "name": "python3"
  },
  "language_info": {
   "codemirror_mode": {
    "name": "ipython",
    "version": 3
   },
   "file_extension": ".py",
   "mimetype": "text/x-python",
   "name": "python",
   "nbconvert_exporter": "python",
   "pygments_lexer": "ipython3",
   "version": "3.9.7"
  }
 },
 "nbformat": 4,
 "nbformat_minor": 5
}
