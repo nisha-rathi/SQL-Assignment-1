{
 "cells": [
  {
   "cell_type": "code",
   "execution_count": null,
   "id": "4fe2758f",
   "metadata": {},
   "outputs": [],
   "source": [
    "Q1.  Write an SQL query to show the top n (say 10) records of a table.\n",
    "Ans: SELECT * FROM Worker ORDER BY Salary DESC LIMIT 10;\n",
    "\n",
    "    OR\n",
    "\n",
    "    select top 10 * from worker; \n",
    "    \n",
    "\n",
    "Q2. Write an SQL query to determine the nth (say n=5) highest salary from a table.\n",
    "Ans: SELECT DISTINCT(Salary) FROM Worker ORDER BY DESC LIMIT 1 OFFSET 5;\n",
    "     OR \n",
    "    SELECT Salary FROM Worker ORDER BY Salary DESC LIMIT 5,1; where n = 5\n",
    "     OR\n",
    "    select top 10 * from worker order by current_salary desc;"
   ]
  }
 ],
 "metadata": {
  "kernelspec": {
   "display_name": "Python 3 (ipykernel)",
   "language": "python",
   "name": "python3"
  },
  "language_info": {
   "codemirror_mode": {
    "name": "ipython",
    "version": 3
   },
   "file_extension": ".py",
   "mimetype": "text/x-python",
   "name": "python",
   "nbconvert_exporter": "python",
   "pygments_lexer": "ipython3",
   "version": "3.9.7"
  }
 },
 "nbformat": 4,
 "nbformat_minor": 5
}
